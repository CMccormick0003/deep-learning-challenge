{
  "cells": [
    {
      "cell_type": "markdown",
      "metadata": {
        "id": "view-in-github",
        "colab_type": "text"
      },
      "source": [
        "<a href=\"https://colab.research.google.com/github/CMccormick0003/deep-learning-challenge/blob/main/AlphabetSoupCharity_optimized_7.ipynb\" target=\"_parent\"><img src=\"https://colab.research.google.com/assets/colab-badge.svg\" alt=\"Open In Colab\"/></a>"
      ]
    },
    {
      "cell_type": "code",
      "execution_count": 89,
      "metadata": {
        "id": "puBvB_lFSFy0",
        "colab": {
          "base_uri": "https://localhost:8080/",
          "height": 293
        },
        "outputId": "d7f31813-1b05-4b1e-9f7b-4b21521a3742"
      },
      "outputs": [
        {
          "output_type": "stream",
          "name": "stdout",
          "text": [
            "(34299, 12)\n",
            "Index(['EIN', 'NAME', 'APPLICATION_TYPE', 'AFFILIATION', 'CLASSIFICATION',\n",
            "       'USE_CASE', 'ORGANIZATION', 'STATUS', 'INCOME_AMT',\n",
            "       'SPECIAL_CONSIDERATIONS', 'ASK_AMT', 'IS_SUCCESSFUL'],\n",
            "      dtype='object')\n"
          ]
        },
        {
          "output_type": "execute_result",
          "data": {
            "text/plain": [
              "        EIN                                      NAME APPLICATION_TYPE  \\\n",
              "0  10520599              BLUE KNIGHTS MOTORCYCLE CLUB              T10   \n",
              "1  10531628    AMERICAN CHESAPEAKE CLUB CHARITABLE TR               T3   \n",
              "2  10547893        ST CLOUD PROFESSIONAL FIREFIGHTERS               T5   \n",
              "3  10553066            SOUTHSIDE ATHLETIC ASSOCIATION               T3   \n",
              "4  10556103  GENETIC RESEARCH INSTITUTE OF THE DESERT               T3   \n",
              "\n",
              "        AFFILIATION CLASSIFICATION      USE_CASE  ORGANIZATION  STATUS  \\\n",
              "0       Independent          C1000    ProductDev   Association       1   \n",
              "1       Independent          C2000  Preservation  Co-operative       1   \n",
              "2  CompanySponsored          C3000    ProductDev   Association       1   \n",
              "3  CompanySponsored          C2000  Preservation         Trust       1   \n",
              "4       Independent          C1000     Heathcare         Trust       1   \n",
              "\n",
              "      INCOME_AMT SPECIAL_CONSIDERATIONS  ASK_AMT  IS_SUCCESSFUL  \n",
              "0              0                      N     5000              1  \n",
              "1         1-9999                      N   108590              1  \n",
              "2              0                      N     5000              0  \n",
              "3    10000-24999                      N     6692              1  \n",
              "4  100000-499999                      N   142590              1  "
            ],
            "text/html": [
              "\n",
              "  <div id=\"df-d764cecb-3819-4f79-9f1b-47dc446a3d70\">\n",
              "    <div class=\"colab-df-container\">\n",
              "      <div>\n",
              "<style scoped>\n",
              "    .dataframe tbody tr th:only-of-type {\n",
              "        vertical-align: middle;\n",
              "    }\n",
              "\n",
              "    .dataframe tbody tr th {\n",
              "        vertical-align: top;\n",
              "    }\n",
              "\n",
              "    .dataframe thead th {\n",
              "        text-align: right;\n",
              "    }\n",
              "</style>\n",
              "<table border=\"1\" class=\"dataframe\">\n",
              "  <thead>\n",
              "    <tr style=\"text-align: right;\">\n",
              "      <th></th>\n",
              "      <th>EIN</th>\n",
              "      <th>NAME</th>\n",
              "      <th>APPLICATION_TYPE</th>\n",
              "      <th>AFFILIATION</th>\n",
              "      <th>CLASSIFICATION</th>\n",
              "      <th>USE_CASE</th>\n",
              "      <th>ORGANIZATION</th>\n",
              "      <th>STATUS</th>\n",
              "      <th>INCOME_AMT</th>\n",
              "      <th>SPECIAL_CONSIDERATIONS</th>\n",
              "      <th>ASK_AMT</th>\n",
              "      <th>IS_SUCCESSFUL</th>\n",
              "    </tr>\n",
              "  </thead>\n",
              "  <tbody>\n",
              "    <tr>\n",
              "      <th>0</th>\n",
              "      <td>10520599</td>\n",
              "      <td>BLUE KNIGHTS MOTORCYCLE CLUB</td>\n",
              "      <td>T10</td>\n",
              "      <td>Independent</td>\n",
              "      <td>C1000</td>\n",
              "      <td>ProductDev</td>\n",
              "      <td>Association</td>\n",
              "      <td>1</td>\n",
              "      <td>0</td>\n",
              "      <td>N</td>\n",
              "      <td>5000</td>\n",
              "      <td>1</td>\n",
              "    </tr>\n",
              "    <tr>\n",
              "      <th>1</th>\n",
              "      <td>10531628</td>\n",
              "      <td>AMERICAN CHESAPEAKE CLUB CHARITABLE TR</td>\n",
              "      <td>T3</td>\n",
              "      <td>Independent</td>\n",
              "      <td>C2000</td>\n",
              "      <td>Preservation</td>\n",
              "      <td>Co-operative</td>\n",
              "      <td>1</td>\n",
              "      <td>1-9999</td>\n",
              "      <td>N</td>\n",
              "      <td>108590</td>\n",
              "      <td>1</td>\n",
              "    </tr>\n",
              "    <tr>\n",
              "      <th>2</th>\n",
              "      <td>10547893</td>\n",
              "      <td>ST CLOUD PROFESSIONAL FIREFIGHTERS</td>\n",
              "      <td>T5</td>\n",
              "      <td>CompanySponsored</td>\n",
              "      <td>C3000</td>\n",
              "      <td>ProductDev</td>\n",
              "      <td>Association</td>\n",
              "      <td>1</td>\n",
              "      <td>0</td>\n",
              "      <td>N</td>\n",
              "      <td>5000</td>\n",
              "      <td>0</td>\n",
              "    </tr>\n",
              "    <tr>\n",
              "      <th>3</th>\n",
              "      <td>10553066</td>\n",
              "      <td>SOUTHSIDE ATHLETIC ASSOCIATION</td>\n",
              "      <td>T3</td>\n",
              "      <td>CompanySponsored</td>\n",
              "      <td>C2000</td>\n",
              "      <td>Preservation</td>\n",
              "      <td>Trust</td>\n",
              "      <td>1</td>\n",
              "      <td>10000-24999</td>\n",
              "      <td>N</td>\n",
              "      <td>6692</td>\n",
              "      <td>1</td>\n",
              "    </tr>\n",
              "    <tr>\n",
              "      <th>4</th>\n",
              "      <td>10556103</td>\n",
              "      <td>GENETIC RESEARCH INSTITUTE OF THE DESERT</td>\n",
              "      <td>T3</td>\n",
              "      <td>Independent</td>\n",
              "      <td>C1000</td>\n",
              "      <td>Heathcare</td>\n",
              "      <td>Trust</td>\n",
              "      <td>1</td>\n",
              "      <td>100000-499999</td>\n",
              "      <td>N</td>\n",
              "      <td>142590</td>\n",
              "      <td>1</td>\n",
              "    </tr>\n",
              "  </tbody>\n",
              "</table>\n",
              "</div>\n",
              "      <button class=\"colab-df-convert\" onclick=\"convertToInteractive('df-d764cecb-3819-4f79-9f1b-47dc446a3d70')\"\n",
              "              title=\"Convert this dataframe to an interactive table.\"\n",
              "              style=\"display:none;\">\n",
              "        \n",
              "  <svg xmlns=\"http://www.w3.org/2000/svg\" height=\"24px\"viewBox=\"0 0 24 24\"\n",
              "       width=\"24px\">\n",
              "    <path d=\"M0 0h24v24H0V0z\" fill=\"none\"/>\n",
              "    <path d=\"M18.56 5.44l.94 2.06.94-2.06 2.06-.94-2.06-.94-.94-2.06-.94 2.06-2.06.94zm-11 1L8.5 8.5l.94-2.06 2.06-.94-2.06-.94L8.5 2.5l-.94 2.06-2.06.94zm10 10l.94 2.06.94-2.06 2.06-.94-2.06-.94-.94-2.06-.94 2.06-2.06.94z\"/><path d=\"M17.41 7.96l-1.37-1.37c-.4-.4-.92-.59-1.43-.59-.52 0-1.04.2-1.43.59L10.3 9.45l-7.72 7.72c-.78.78-.78 2.05 0 2.83L4 21.41c.39.39.9.59 1.41.59.51 0 1.02-.2 1.41-.59l7.78-7.78 2.81-2.81c.8-.78.8-2.07 0-2.86zM5.41 20L4 18.59l7.72-7.72 1.47 1.35L5.41 20z\"/>\n",
              "  </svg>\n",
              "      </button>\n",
              "      \n",
              "  <style>\n",
              "    .colab-df-container {\n",
              "      display:flex;\n",
              "      flex-wrap:wrap;\n",
              "      gap: 12px;\n",
              "    }\n",
              "\n",
              "    .colab-df-convert {\n",
              "      background-color: #E8F0FE;\n",
              "      border: none;\n",
              "      border-radius: 50%;\n",
              "      cursor: pointer;\n",
              "      display: none;\n",
              "      fill: #1967D2;\n",
              "      height: 32px;\n",
              "      padding: 0 0 0 0;\n",
              "      width: 32px;\n",
              "    }\n",
              "\n",
              "    .colab-df-convert:hover {\n",
              "      background-color: #E2EBFA;\n",
              "      box-shadow: 0px 1px 2px rgba(60, 64, 67, 0.3), 0px 1px 3px 1px rgba(60, 64, 67, 0.15);\n",
              "      fill: #174EA6;\n",
              "    }\n",
              "\n",
              "    [theme=dark] .colab-df-convert {\n",
              "      background-color: #3B4455;\n",
              "      fill: #D2E3FC;\n",
              "    }\n",
              "\n",
              "    [theme=dark] .colab-df-convert:hover {\n",
              "      background-color: #434B5C;\n",
              "      box-shadow: 0px 1px 3px 1px rgba(0, 0, 0, 0.15);\n",
              "      filter: drop-shadow(0px 1px 2px rgba(0, 0, 0, 0.3));\n",
              "      fill: #FFFFFF;\n",
              "    }\n",
              "  </style>\n",
              "\n",
              "      <script>\n",
              "        const buttonEl =\n",
              "          document.querySelector('#df-d764cecb-3819-4f79-9f1b-47dc446a3d70 button.colab-df-convert');\n",
              "        buttonEl.style.display =\n",
              "          google.colab.kernel.accessAllowed ? 'block' : 'none';\n",
              "\n",
              "        async function convertToInteractive(key) {\n",
              "          const element = document.querySelector('#df-d764cecb-3819-4f79-9f1b-47dc446a3d70');\n",
              "          const dataTable =\n",
              "            await google.colab.kernel.invokeFunction('convertToInteractive',\n",
              "                                                     [key], {});\n",
              "          if (!dataTable) return;\n",
              "\n",
              "          const docLinkHtml = 'Like what you see? Visit the ' +\n",
              "            '<a target=\"_blank\" href=https://colab.research.google.com/notebooks/data_table.ipynb>data table notebook</a>'\n",
              "            + ' to learn more about interactive tables.';\n",
              "          element.innerHTML = '';\n",
              "          dataTable['output_type'] = 'display_data';\n",
              "          await google.colab.output.renderOutput(dataTable, element);\n",
              "          const docLink = document.createElement('div');\n",
              "          docLink.innerHTML = docLinkHtml;\n",
              "          element.appendChild(docLink);\n",
              "        }\n",
              "      </script>\n",
              "    </div>\n",
              "  </div>\n",
              "  "
            ]
          },
          "metadata": {},
          "execution_count": 89
        }
      ],
      "source": [
        "# Import our dependencies\n",
        "from sklearn.model_selection import train_test_split\n",
        "from sklearn.preprocessing import StandardScaler\n",
        "import pandas as pd\n",
        "import tensorflow as tf\n",
        "\n",
        "#  Import and read the charity_data.csv.\n",
        "import pandas as pd\n",
        "application_df = pd.read_csv(\"https://static.bc-edx.com/data/dl-1-2/m21/lms/starter/charity_data.csv\")\n",
        "print(application_df.shape)\n",
        "print(application_df.columns)\n",
        "application_df.head()"
      ]
    },
    {
      "cell_type": "markdown",
      "metadata": {
        "id": "IDF4eUCHSFyy"
      },
      "source": [
        "## Preprocessing"
      ]
    },
    {
      "cell_type": "code",
      "execution_count": 90,
      "metadata": {
        "id": "GiqOvPn5SFy1"
      },
      "outputs": [],
      "source": [
        "# Drop the non-beneficial ID columns, 'EIN' and 'NAME'.\n",
        "application_df.drop(columns=['EIN', 'NAME', 'SPECIAL_CONSIDERATIONS'], inplace=True)"
      ]
    },
    {
      "cell_type": "code",
      "execution_count": 91,
      "metadata": {
        "id": "ak-22ZCxSFy2",
        "colab": {
          "base_uri": "https://localhost:8080/"
        },
        "outputId": "f946c208-0575-4d09-9689-046d5d93a27c"
      },
      "outputs": [
        {
          "output_type": "stream",
          "name": "stdout",
          "text": [
            "APPLICATION_TYPE      17\n",
            "AFFILIATION            6\n",
            "CLASSIFICATION        71\n",
            "USE_CASE               5\n",
            "ORGANIZATION           4\n",
            "STATUS                 2\n",
            "INCOME_AMT             9\n",
            "ASK_AMT             8747\n",
            "IS_SUCCESSFUL          2\n",
            "dtype: int64\n"
          ]
        }
      ],
      "source": [
        "# Determine the number of unique values in each column.\n",
        "unique_counts = application_df.nunique()\n",
        "print(unique_counts)"
      ]
    },
    {
      "cell_type": "code",
      "execution_count": 92,
      "metadata": {
        "id": "Hz4LSsb8SFy2",
        "colab": {
          "base_uri": "https://localhost:8080/"
        },
        "outputId": "db197f93-72ba-42e1-e3b9-b059e78df50d"
      },
      "outputs": [
        {
          "output_type": "stream",
          "name": "stdout",
          "text": [
            "T3     27037\n",
            "T4      1542\n",
            "T6      1216\n",
            "T5      1173\n",
            "T19     1065\n",
            "T8       737\n",
            "T7       725\n",
            "T10      528\n",
            "T9       156\n",
            "T13       66\n",
            "T12       27\n",
            "T2        16\n",
            "T25        3\n",
            "T14        3\n",
            "T29        2\n",
            "T15        2\n",
            "T17        1\n",
            "Name: APPLICATION_TYPE, dtype: int64\n"
          ]
        }
      ],
      "source": [
        "# Look at APPLICATION_TYPE value counts for binning\n",
        "print(application_df['APPLICATION_TYPE'].value_counts())"
      ]
    },
    {
      "cell_type": "code",
      "execution_count": 93,
      "metadata": {
        "id": "b95nbdX-SFy2",
        "colab": {
          "base_uri": "https://localhost:8080/"
        },
        "outputId": "123a2d4e-79da-4d32-ac0f-edfe4697107b"
      },
      "outputs": [
        {
          "output_type": "stream",
          "name": "stdout",
          "text": [
            "['T12', 'T2', 'T25', 'T14', 'T29', 'T15', 'T17']\n"
          ]
        },
        {
          "output_type": "execute_result",
          "data": {
            "text/plain": [
              "T3       27037\n",
              "T4        1542\n",
              "T6        1216\n",
              "T5        1173\n",
              "T19       1065\n",
              "T8         737\n",
              "T7         725\n",
              "T10        528\n",
              "T9         156\n",
              "T13         66\n",
              "Other       54\n",
              "Name: APPLICATION_TYPE, dtype: int64"
            ]
          },
          "metadata": {},
          "execution_count": 93
        }
      ],
      "source": [
        "# Choose a cutoff value and create a list of application types to be replaced\n",
        "# use the variable name `application_types_to_replace`\n",
        "app_type_counts = application_df['APPLICATION_TYPE'].value_counts()\n",
        "application_types_to_replace = list(app_type_counts[app_type_counts < 51].index)\n",
        "print(application_types_to_replace)\n",
        "\n",
        "# Replace in dataframe\n",
        "for app in application_types_to_replace:\n",
        "    application_df['APPLICATION_TYPE'] = application_df['APPLICATION_TYPE'].replace(app,\"Other\")\n",
        "\n",
        "# Check to make sure binning was successful\n",
        "application_df['APPLICATION_TYPE'].value_counts()"
      ]
    },
    {
      "cell_type": "code",
      "execution_count": 94,
      "metadata": {
        "id": "gENVjyIlSFy3",
        "colab": {
          "base_uri": "https://localhost:8080/"
        },
        "outputId": "0995f24a-4931-4f8f-ae38-d93372871e58"
      },
      "outputs": [
        {
          "output_type": "stream",
          "name": "stdout",
          "text": [
            "C1000    17326\n",
            "C2000     6074\n",
            "C1200     4837\n",
            "C3000     1918\n",
            "C2100     1883\n",
            "         ...  \n",
            "C4120        1\n",
            "C8210        1\n",
            "C2561        1\n",
            "C4500        1\n",
            "C2150        1\n",
            "Name: CLASSIFICATION, Length: 71, dtype: int64\n"
          ]
        }
      ],
      "source": [
        "# Look at CLASSIFICATION value counts for binning\n",
        "classification_counts = application_df['CLASSIFICATION'].value_counts()\n",
        "print(classification_counts)"
      ]
    },
    {
      "cell_type": "code",
      "execution_count": 95,
      "metadata": {
        "id": "c1_B3k3NSFy3",
        "colab": {
          "base_uri": "https://localhost:8080/"
        },
        "outputId": "b031ca7e-a99f-4eb4-a718-f9ea5656013f"
      },
      "outputs": [
        {
          "output_type": "stream",
          "name": "stdout",
          "text": [
            "C1000    17326\n",
            "C2000     6074\n",
            "C1200     4837\n",
            "C3000     1918\n",
            "C2100     1883\n",
            "C7000      777\n",
            "C1700      287\n",
            "C4000      194\n",
            "C5000      116\n",
            "C1270      114\n",
            "C2700      104\n",
            "C2800       95\n",
            "C7100       75\n",
            "C1300       58\n",
            "C1280       50\n",
            "C1230       36\n",
            "C1400       34\n",
            "C7200       32\n",
            "C2300       32\n",
            "C1240       30\n",
            "C8000       20\n",
            "C7120       18\n",
            "C1500       16\n",
            "C1800       15\n",
            "C6000       15\n",
            "C1250       14\n",
            "C8200       11\n",
            "C1238       10\n",
            "C1278       10\n",
            "C1235        9\n",
            "C1237        9\n",
            "C7210        7\n",
            "C2400        6\n",
            "C1720        6\n",
            "C4100        6\n",
            "C1257        5\n",
            "C1600        5\n",
            "C1260        3\n",
            "C2710        3\n",
            "C0           3\n",
            "C3200        2\n",
            "C1234        2\n",
            "C1246        2\n",
            "C1267        2\n",
            "C1256        2\n",
            "Name: CLASSIFICATION, dtype: int64\n"
          ]
        }
      ],
      "source": [
        "# You may find it helpful to look at CLASSIFICATION value counts >1\n",
        "classification_counts = application_df['CLASSIFICATION'].value_counts()\n",
        "classification_counts_greater_than_one = classification_counts[classification_counts > 1]\n",
        "print(classification_counts_greater_than_one)"
      ]
    },
    {
      "cell_type": "code",
      "execution_count": 96,
      "metadata": {
        "id": "8XtXwdYqSFy3",
        "colab": {
          "base_uri": "https://localhost:8080/"
        },
        "outputId": "6cde2008-942a-43a8-f1de-482028d5913e"
      },
      "outputs": [
        {
          "output_type": "stream",
          "name": "stdout",
          "text": [
            "['C7120', 'C1500', 'C1800', 'C6000', 'C1250', 'C8200', 'C1238', 'C1278', 'C1235', 'C1237', 'C7210', 'C2400', 'C1720', 'C4100', 'C1257', 'C1600', 'C1260', 'C2710', 'C0', 'C3200', 'C1234', 'C1246', 'C1267', 'C1256', 'C2190', 'C4200', 'C2600', 'C5200', 'C1370', 'C1248', 'C6100', 'C1820', 'C1900', 'C1236', 'C3700', 'C2570', 'C1580', 'C1245', 'C2500', 'C1570', 'C1283', 'C2380', 'C1732', 'C1728', 'C2170', 'C4120', 'C8210', 'C2561', 'C4500', 'C2150']\n"
          ]
        },
        {
          "output_type": "execute_result",
          "data": {
            "text/plain": [
              "C1000    17326\n",
              "C2000     6074\n",
              "C1200     4837\n",
              "C3000     1918\n",
              "C2100     1883\n",
              "C7000      777\n",
              "C1700      287\n",
              "Other      207\n",
              "C4000      194\n",
              "C5000      116\n",
              "C1270      114\n",
              "C2700      104\n",
              "C2800       95\n",
              "C7100       75\n",
              "C1300       58\n",
              "C1280       50\n",
              "C1230       36\n",
              "C1400       34\n",
              "C7200       32\n",
              "C2300       32\n",
              "C1240       30\n",
              "C8000       20\n",
              "Name: CLASSIFICATION, dtype: int64"
            ]
          },
          "metadata": {},
          "execution_count": 96
        }
      ],
      "source": [
        "# Choose a cutoff value and create a list of classifications to be replaced\n",
        "# use the variable name `classifications_to_replace`\n",
        "classifications_to_replace = list(classification_counts[classification_counts < 10].index)\n",
        "print(classifications_to_replace)\n",
        "\n",
        "# Replace in dataframe\n",
        "for cls in classifications_to_replace:\n",
        "    application_df['CLASSIFICATION'] = application_df['CLASSIFICATION'].replace(cls,\"Other\")\n",
        "\n",
        "# Check to make sure binning was successful\n",
        "application_df['CLASSIFICATION'].value_counts()"
      ]
    },
    {
      "cell_type": "code",
      "source": [
        "# Look at ASK_AMT value counts for binning\n",
        "ask_amt_counts = application_df['ASK_AMT'].value_counts()\n",
        "print(ask_amt_counts)"
      ],
      "metadata": {
        "id": "_sBTrbEi-z7H",
        "outputId": "c97eca09-53d8-4f3d-dedf-6e33ecc92188",
        "colab": {
          "base_uri": "https://localhost:8080/"
        }
      },
      "execution_count": 107,
      "outputs": [
        {
          "output_type": "stream",
          "name": "stdout",
          "text": [
            "5000        25398\n",
            "10478           3\n",
            "15583           3\n",
            "63981           3\n",
            "6725            3\n",
            "            ...  \n",
            "5371754         1\n",
            "30060           1\n",
            "43091152        1\n",
            "18683           1\n",
            "36500179        1\n",
            "Name: ASK_AMT, Length: 8747, dtype: int64\n"
          ]
        }
      ]
    },
    {
      "cell_type": "code",
      "source": [
        "# You may find it helpful to look at ASK_AMT value counts >2\n",
        "ask_amt_counts = application_df['ASK_AMT'].value_counts()\n",
        "ask_amt_counts_greater_than_two = ask_amt_counts[ask_amt_counts > 2]\n",
        "print(ask_amt_counts_greater_than_two)\n",
        "\n",
        "# the most common loan ask amount is $5000"
      ],
      "metadata": {
        "id": "tCiamibB-0dP",
        "outputId": "3c785b2c-6a39-41f5-e2ea-734f8f73df0c",
        "colab": {
          "base_uri": "https://localhost:8080/"
        }
      },
      "execution_count": 111,
      "outputs": [
        {
          "output_type": "stream",
          "name": "stdout",
          "text": [
            "5000     25398\n",
            "10478        3\n",
            "15583        3\n",
            "63981        3\n",
            "6725         3\n",
            "Name: ASK_AMT, dtype: int64\n"
          ]
        }
      ]
    },
    {
      "cell_type": "code",
      "source": [
        "application_df = application_df[application_df['ASK_AMT'] == 5000]\n",
        "# Determine the number of unique values in each column.\n",
        "unique_counts = application_df.nunique()\n",
        "print(unique_counts)"
      ],
      "metadata": {
        "id": "GLiFwIIT-0uB",
        "outputId": "f83dae99-ec76-4aa5-e821-b6e2547b7cb2",
        "colab": {
          "base_uri": "https://localhost:8080/"
        }
      },
      "execution_count": 113,
      "outputs": [
        {
          "output_type": "stream",
          "name": "stdout",
          "text": [
            "APPLICATION_TYPE    11\n",
            "AFFILIATION          6\n",
            "CLASSIFICATION      22\n",
            "USE_CASE             5\n",
            "ORGANIZATION         4\n",
            "STATUS               2\n",
            "INCOME_AMT           9\n",
            "ASK_AMT              1\n",
            "IS_SUCCESSFUL        2\n",
            "dtype: int64\n"
          ]
        }
      ]
    },
    {
      "cell_type": "code",
      "execution_count": 114,
      "metadata": {
        "id": "vMGMrypnSFy3",
        "colab": {
          "base_uri": "https://localhost:8080/"
        },
        "outputId": "17a1d6b4-c52b-4b3c-92b3-d9487588446c"
      },
      "outputs": [
        {
          "output_type": "execute_result",
          "data": {
            "text/plain": [
              "(25398, 60)"
            ]
          },
          "metadata": {},
          "execution_count": 114
        }
      ],
      "source": [
        "# Convert categorical data to numeric with `pd.get_dummies`\n",
        "# create a list of columns to encode\n",
        "cat_cols = ['APPLICATION_TYPE', 'CLASSIFICATION', 'USE_CASE', 'ORGANIZATION', 'INCOME_AMT', 'AFFILIATION']\n",
        "\n",
        "# use pd.get_dummies to encode categorical variables\n",
        "encoded_df = pd.get_dummies(application_df, columns=cat_cols)\n",
        "encoded_df.shape"
      ]
    },
    {
      "cell_type": "code",
      "execution_count": 115,
      "metadata": {
        "id": "XQkofRFTSFy4"
      },
      "outputs": [],
      "source": [
        "# Split our preprocessed data into our features and target arrays\n",
        "X = encoded_df.drop(\"IS_SUCCESSFUL\", axis=1).values\n",
        "y = encoded_df[\"IS_SUCCESSFUL\"].values\n",
        "\n",
        "# Split the preprocessed data into a training and testing dataset\n",
        "X_train, X_test, y_train, y_test = train_test_split(X, y, random_state=42)"
      ]
    },
    {
      "cell_type": "code",
      "execution_count": 116,
      "metadata": {
        "id": "umP-Vd-9SFy4",
        "colab": {
          "base_uri": "https://localhost:8080/"
        },
        "outputId": "207fd932-568a-4600-d90b-ff880f306285"
      },
      "outputs": [
        {
          "output_type": "stream",
          "name": "stdout",
          "text": [
            "(19048, 59)\n"
          ]
        }
      ],
      "source": [
        "# Create a StandardScaler instances\n",
        "scaler = StandardScaler()\n",
        "\n",
        "# Fit the StandardScaler\n",
        "X_scaler = scaler.fit(X_train)\n",
        "\n",
        "# Scale the data\n",
        "X_train_scaled = X_scaler.transform(X_train)\n",
        "X_test_scaled = X_scaler.transform(X_test)\n",
        "\n",
        "print (X_train_scaled.shape)\n"
      ]
    },
    {
      "cell_type": "markdown",
      "metadata": {
        "id": "YHHCrEg6SFy4"
      },
      "source": [
        "## Compile, Train and Evaluate the Model"
      ]
    },
    {
      "cell_type": "code",
      "execution_count": 117,
      "metadata": {
        "id": "irWUFltkSFy4",
        "colab": {
          "base_uri": "https://localhost:8080/"
        },
        "outputId": "c038cb10-ff65-4e9e-fc4a-4a7f651b3ad3"
      },
      "outputs": [
        {
          "output_type": "stream",
          "name": "stdout",
          "text": [
            "Model: \"sequential_8\"\n",
            "_________________________________________________________________\n",
            " Layer (type)                Output Shape              Param #   \n",
            "=================================================================\n",
            " dense_64 (Dense)            (None, 80)                4800      \n",
            "                                                                 \n",
            " dense_65 (Dense)            (None, 50)                4050      \n",
            "                                                                 \n",
            " dense_66 (Dense)            (None, 50)                2550      \n",
            "                                                                 \n",
            " dense_67 (Dense)            (None, 50)                2550      \n",
            "                                                                 \n",
            " dense_68 (Dense)            (None, 50)                2550      \n",
            "                                                                 \n",
            " dense_69 (Dense)            (None, 50)                2550      \n",
            "                                                                 \n",
            " dense_70 (Dense)            (None, 50)                2550      \n",
            "                                                                 \n",
            " dense_71 (Dense)            (None, 30)                1530      \n",
            "                                                                 \n",
            " dense_72 (Dense)            (None, 1)                 31        \n",
            "                                                                 \n",
            "=================================================================\n",
            "Total params: 23,161\n",
            "Trainable params: 23,161\n",
            "Non-trainable params: 0\n",
            "_________________________________________________________________\n"
          ]
        }
      ],
      "source": [
        "from tensorflow.keras.layers import Dense\n",
        "from tensorflow.keras.models import Sequential\n",
        "\n",
        "# Define the model - deep neural net, i.e., the number of input features and hidden nodes for each layer.\n",
        "nn = Sequential()\n",
        "\n",
        "# First hidden layer\n",
        "nn.add(Dense(units=80, activation='relu', input_dim=len(X_train_scaled[0])))\n",
        "\n",
        "# Add 6 additional hidden layers\n",
        "for i in range(6):\n",
        "    nn.add(Dense(units=50, activation='relu'))\n",
        "\n",
        "# Last hidden layer\n",
        "nn.add(Dense(units=30, activation='relu'))\n",
        "\n",
        "# Output layer\n",
        "nn.add(Dense(units=1, activation='sigmoid'))\n",
        "\n",
        "# Check the structure of the model\n",
        "nn.summary()"
      ]
    },
    {
      "cell_type": "code",
      "execution_count": 118,
      "metadata": {
        "id": "-GFrz23ESFy4"
      },
      "outputs": [],
      "source": [
        "# Compile the model\n",
        "nn.compile(loss='binary_crossentropy', optimizer='adam', metrics=['accuracy'])"
      ]
    },
    {
      "cell_type": "code",
      "execution_count": 119,
      "metadata": {
        "id": "SDLNZhqpSFy5",
        "colab": {
          "base_uri": "https://localhost:8080/"
        },
        "outputId": "52cfcbbe-0db0-46b8-b287-a368c973561d"
      },
      "outputs": [
        {
          "output_type": "stream",
          "name": "stdout",
          "text": [
            "Epoch 1/100\n",
            "596/596 [==============================] - 1s 1ms/step - loss: 0.5639 - accuracy: 0.7304\n",
            "Epoch 2/100\n",
            "596/596 [==============================] - 1s 1ms/step - loss: 0.5354 - accuracy: 0.7441\n",
            "Epoch 3/100\n",
            "596/596 [==============================] - 1s 1ms/step - loss: 0.5301 - accuracy: 0.7479\n",
            "Epoch 4/100\n",
            "596/596 [==============================] - 1s 1ms/step - loss: 0.5271 - accuracy: 0.7470\n",
            "Epoch 5/100\n",
            "596/596 [==============================] - 1s 2ms/step - loss: 0.5266 - accuracy: 0.7481\n",
            "Epoch 6/100\n",
            "596/596 [==============================] - 1s 2ms/step - loss: 0.5257 - accuracy: 0.7501\n",
            "Epoch 7/100\n",
            "596/596 [==============================] - 1s 2ms/step - loss: 0.5244 - accuracy: 0.7509\n",
            "Epoch 8/100\n",
            "596/596 [==============================] - 1s 1ms/step - loss: 0.5234 - accuracy: 0.7517\n",
            "Epoch 9/100\n",
            "596/596 [==============================] - 1s 1ms/step - loss: 0.5237 - accuracy: 0.7508\n",
            "Epoch 10/100\n",
            "596/596 [==============================] - 1s 1ms/step - loss: 0.5222 - accuracy: 0.7505\n",
            "Epoch 11/100\n",
            "596/596 [==============================] - 1s 1ms/step - loss: 0.5221 - accuracy: 0.7518\n",
            "Epoch 12/100\n",
            "596/596 [==============================] - 1s 1ms/step - loss: 0.5218 - accuracy: 0.7514\n",
            "Epoch 13/100\n",
            "596/596 [==============================] - 1s 1ms/step - loss: 0.5214 - accuracy: 0.7527\n",
            "Epoch 14/100\n",
            "596/596 [==============================] - 1s 1ms/step - loss: 0.5208 - accuracy: 0.7508\n",
            "Epoch 15/100\n",
            "596/596 [==============================] - 1s 1ms/step - loss: 0.5211 - accuracy: 0.7522\n",
            "Epoch 16/100\n",
            "596/596 [==============================] - 1s 1ms/step - loss: 0.5203 - accuracy: 0.7531\n",
            "Epoch 17/100\n",
            "596/596 [==============================] - 1s 1ms/step - loss: 0.5208 - accuracy: 0.7523\n",
            "Epoch 18/100\n",
            "596/596 [==============================] - 1s 1ms/step - loss: 0.5199 - accuracy: 0.7517\n",
            "Epoch 19/100\n",
            "596/596 [==============================] - 1s 2ms/step - loss: 0.5195 - accuracy: 0.7518\n",
            "Epoch 20/100\n",
            "596/596 [==============================] - 1s 2ms/step - loss: 0.5195 - accuracy: 0.7527\n",
            "Epoch 21/100\n",
            "596/596 [==============================] - 1s 2ms/step - loss: 0.5198 - accuracy: 0.7510\n",
            "Epoch 22/100\n",
            "596/596 [==============================] - 1s 1ms/step - loss: 0.5189 - accuracy: 0.7518\n",
            "Epoch 23/100\n",
            "596/596 [==============================] - 1s 1ms/step - loss: 0.5191 - accuracy: 0.7516\n",
            "Epoch 24/100\n",
            "596/596 [==============================] - 1s 1ms/step - loss: 0.5191 - accuracy: 0.7521\n",
            "Epoch 25/100\n",
            "596/596 [==============================] - 1s 1ms/step - loss: 0.5183 - accuracy: 0.7526\n",
            "Epoch 26/100\n",
            "596/596 [==============================] - 1s 1ms/step - loss: 0.5182 - accuracy: 0.7539\n",
            "Epoch 27/100\n",
            "596/596 [==============================] - 1s 1ms/step - loss: 0.5181 - accuracy: 0.7523\n",
            "Epoch 28/100\n",
            "596/596 [==============================] - 1s 1ms/step - loss: 0.5181 - accuracy: 0.7535\n",
            "Epoch 29/100\n",
            "596/596 [==============================] - 1s 1ms/step - loss: 0.5182 - accuracy: 0.7531\n",
            "Epoch 30/100\n",
            "596/596 [==============================] - 1s 1ms/step - loss: 0.5176 - accuracy: 0.7539\n",
            "Epoch 31/100\n",
            "596/596 [==============================] - 1s 1ms/step - loss: 0.5176 - accuracy: 0.7531\n",
            "Epoch 32/100\n",
            "596/596 [==============================] - 1s 1ms/step - loss: 0.5176 - accuracy: 0.7538\n",
            "Epoch 33/100\n",
            "596/596 [==============================] - 1s 2ms/step - loss: 0.5174 - accuracy: 0.7533\n",
            "Epoch 34/100\n",
            "596/596 [==============================] - 1s 2ms/step - loss: 0.5172 - accuracy: 0.7535\n",
            "Epoch 35/100\n",
            "596/596 [==============================] - 1s 2ms/step - loss: 0.5169 - accuracy: 0.7542\n",
            "Epoch 36/100\n",
            "596/596 [==============================] - 1s 1ms/step - loss: 0.5172 - accuracy: 0.7522\n",
            "Epoch 37/100\n",
            "596/596 [==============================] - 1s 1ms/step - loss: 0.5170 - accuracy: 0.7536\n",
            "Epoch 38/100\n",
            "596/596 [==============================] - 1s 1ms/step - loss: 0.5172 - accuracy: 0.7546\n",
            "Epoch 39/100\n",
            "596/596 [==============================] - 1s 1ms/step - loss: 0.5176 - accuracy: 0.7527\n",
            "Epoch 40/100\n",
            "596/596 [==============================] - 1s 1ms/step - loss: 0.5171 - accuracy: 0.7532\n",
            "Epoch 41/100\n",
            "596/596 [==============================] - 1s 1ms/step - loss: 0.5170 - accuracy: 0.7541\n",
            "Epoch 42/100\n",
            "596/596 [==============================] - 1s 1ms/step - loss: 0.5164 - accuracy: 0.7542\n",
            "Epoch 43/100\n",
            "596/596 [==============================] - 1s 2ms/step - loss: 0.5162 - accuracy: 0.7543\n",
            "Epoch 44/100\n",
            "596/596 [==============================] - 1s 1ms/step - loss: 0.5165 - accuracy: 0.7530\n",
            "Epoch 45/100\n",
            "596/596 [==============================] - 1s 1ms/step - loss: 0.5160 - accuracy: 0.7524\n",
            "Epoch 46/100\n",
            "596/596 [==============================] - 1s 1ms/step - loss: 0.5163 - accuracy: 0.7550\n",
            "Epoch 47/100\n",
            "596/596 [==============================] - 1s 2ms/step - loss: 0.5165 - accuracy: 0.7543\n",
            "Epoch 48/100\n",
            "596/596 [==============================] - 1s 2ms/step - loss: 0.5161 - accuracy: 0.7542\n",
            "Epoch 49/100\n",
            "596/596 [==============================] - 1s 1ms/step - loss: 0.5160 - accuracy: 0.7555\n",
            "Epoch 50/100\n",
            "596/596 [==============================] - 1s 1ms/step - loss: 0.5158 - accuracy: 0.7522\n",
            "Epoch 51/100\n",
            "596/596 [==============================] - 1s 1ms/step - loss: 0.5159 - accuracy: 0.7522\n",
            "Epoch 52/100\n",
            "596/596 [==============================] - 1s 1ms/step - loss: 0.5156 - accuracy: 0.7539\n",
            "Epoch 53/100\n",
            "596/596 [==============================] - 1s 1ms/step - loss: 0.5155 - accuracy: 0.7535\n",
            "Epoch 54/100\n",
            "596/596 [==============================] - 1s 1ms/step - loss: 0.5158 - accuracy: 0.7538\n",
            "Epoch 55/100\n",
            "596/596 [==============================] - 1s 1ms/step - loss: 0.5156 - accuracy: 0.7545\n",
            "Epoch 56/100\n",
            "596/596 [==============================] - 1s 1ms/step - loss: 0.5155 - accuracy: 0.7537\n",
            "Epoch 57/100\n",
            "596/596 [==============================] - 1s 1ms/step - loss: 0.5157 - accuracy: 0.7543\n",
            "Epoch 58/100\n",
            "596/596 [==============================] - 1s 1ms/step - loss: 0.5154 - accuracy: 0.7541\n",
            "Epoch 59/100\n",
            "596/596 [==============================] - 1s 1ms/step - loss: 0.5154 - accuracy: 0.7553\n",
            "Epoch 60/100\n",
            "596/596 [==============================] - 1s 2ms/step - loss: 0.5156 - accuracy: 0.7537\n",
            "Epoch 61/100\n",
            "596/596 [==============================] - 1s 2ms/step - loss: 0.5149 - accuracy: 0.7550\n",
            "Epoch 62/100\n",
            "596/596 [==============================] - 1s 2ms/step - loss: 0.5148 - accuracy: 0.7546\n",
            "Epoch 63/100\n",
            "596/596 [==============================] - 1s 1ms/step - loss: 0.5147 - accuracy: 0.7547\n",
            "Epoch 64/100\n",
            "596/596 [==============================] - 1s 1ms/step - loss: 0.5147 - accuracy: 0.7531\n",
            "Epoch 65/100\n",
            "596/596 [==============================] - 1s 1ms/step - loss: 0.5147 - accuracy: 0.7548\n",
            "Epoch 66/100\n",
            "596/596 [==============================] - 1s 1ms/step - loss: 0.5149 - accuracy: 0.7545\n",
            "Epoch 67/100\n",
            "596/596 [==============================] - 1s 1ms/step - loss: 0.5146 - accuracy: 0.7558\n",
            "Epoch 68/100\n",
            "596/596 [==============================] - 1s 1ms/step - loss: 0.5153 - accuracy: 0.7541\n",
            "Epoch 69/100\n",
            "596/596 [==============================] - 1s 1ms/step - loss: 0.5146 - accuracy: 0.7549\n",
            "Epoch 70/100\n",
            "596/596 [==============================] - 1s 1ms/step - loss: 0.5149 - accuracy: 0.7553\n",
            "Epoch 71/100\n",
            "596/596 [==============================] - 1s 1ms/step - loss: 0.5145 - accuracy: 0.7551\n",
            "Epoch 72/100\n",
            "596/596 [==============================] - 1s 1ms/step - loss: 0.5146 - accuracy: 0.7546\n",
            "Epoch 73/100\n",
            "596/596 [==============================] - 1s 1ms/step - loss: 0.5146 - accuracy: 0.7548\n",
            "Epoch 74/100\n",
            "596/596 [==============================] - 1s 2ms/step - loss: 0.5146 - accuracy: 0.7547\n",
            "Epoch 75/100\n",
            "596/596 [==============================] - 1s 2ms/step - loss: 0.5149 - accuracy: 0.7547\n",
            "Epoch 76/100\n",
            "596/596 [==============================] - 1s 1ms/step - loss: 0.5146 - accuracy: 0.7560\n",
            "Epoch 77/100\n",
            "596/596 [==============================] - 1s 1ms/step - loss: 0.5147 - accuracy: 0.7552\n",
            "Epoch 78/100\n",
            "596/596 [==============================] - 1s 1ms/step - loss: 0.5148 - accuracy: 0.7540\n",
            "Epoch 79/100\n",
            "596/596 [==============================] - 1s 1ms/step - loss: 0.5145 - accuracy: 0.7540\n",
            "Epoch 80/100\n",
            "596/596 [==============================] - 1s 1ms/step - loss: 0.5143 - accuracy: 0.7549\n",
            "Epoch 81/100\n",
            "596/596 [==============================] - 1s 1ms/step - loss: 0.5143 - accuracy: 0.7539\n",
            "Epoch 82/100\n",
            "596/596 [==============================] - 1s 1ms/step - loss: 0.5144 - accuracy: 0.7548\n",
            "Epoch 83/100\n",
            "596/596 [==============================] - 1s 1ms/step - loss: 0.5139 - accuracy: 0.7535\n",
            "Epoch 84/100\n",
            "596/596 [==============================] - 1s 1ms/step - loss: 0.5148 - accuracy: 0.7552\n",
            "Epoch 85/100\n",
            "596/596 [==============================] - 1s 1ms/step - loss: 0.5143 - accuracy: 0.7537\n",
            "Epoch 86/100\n",
            "596/596 [==============================] - 1s 1ms/step - loss: 0.5144 - accuracy: 0.7560\n",
            "Epoch 87/100\n",
            "596/596 [==============================] - 1s 1ms/step - loss: 0.5140 - accuracy: 0.7545\n",
            "Epoch 88/100\n",
            "596/596 [==============================] - 1s 2ms/step - loss: 0.5142 - accuracy: 0.7546\n",
            "Epoch 89/100\n",
            "596/596 [==============================] - 1s 2ms/step - loss: 0.5140 - accuracy: 0.7545\n",
            "Epoch 90/100\n",
            "596/596 [==============================] - 1s 1ms/step - loss: 0.5136 - accuracy: 0.7546\n",
            "Epoch 91/100\n",
            "596/596 [==============================] - 1s 1ms/step - loss: 0.5141 - accuracy: 0.7541\n",
            "Epoch 92/100\n",
            "596/596 [==============================] - 1s 1ms/step - loss: 0.5142 - accuracy: 0.7549\n",
            "Epoch 93/100\n",
            "596/596 [==============================] - 1s 1ms/step - loss: 0.5139 - accuracy: 0.7544\n",
            "Epoch 94/100\n",
            "596/596 [==============================] - 1s 1ms/step - loss: 0.5143 - accuracy: 0.7547\n",
            "Epoch 95/100\n",
            "596/596 [==============================] - 1s 1ms/step - loss: 0.5136 - accuracy: 0.7560\n",
            "Epoch 96/100\n",
            "596/596 [==============================] - 1s 1ms/step - loss: 0.5138 - accuracy: 0.7552\n",
            "Epoch 97/100\n",
            "596/596 [==============================] - 1s 1ms/step - loss: 0.5137 - accuracy: 0.7539\n",
            "Epoch 98/100\n",
            "596/596 [==============================] - 1s 1ms/step - loss: 0.5132 - accuracy: 0.7552\n",
            "Epoch 99/100\n",
            "596/596 [==============================] - 1s 1ms/step - loss: 0.5139 - accuracy: 0.7552\n",
            "Epoch 100/100\n",
            "596/596 [==============================] - 1s 1ms/step - loss: 0.5136 - accuracy: 0.7558\n"
          ]
        }
      ],
      "source": [
        "# Train the model\n",
        "from tensorflow.keras.optimizers import SGD\n",
        "\n",
        "sgd = SGD(learning_rate=0.1)\n",
        "\n",
        "nn.compile(loss='binary_crossentropy', optimizer=sgd, metrics=['accuracy'])\n",
        "\n",
        "\n",
        "# Define the checkpoint path and filename\n",
        "checkpoint_path = \"model_weights/checkpoint_weights.{epoch:02d}.h5\"\n",
        "\n",
        "# Create a callback that saves the model's weights every five epochs\n",
        "checkpoint_callback = tf.keras.callbacks.ModelCheckpoint(\n",
        "    filepath=checkpoint_path,\n",
        "    save_weights_only=True,\n",
        "    save_freq=5 * len(X_train_scaled),\n",
        "    verbose=1)\n",
        "\n",
        "# Train the model with checkpoint callback\n",
        "fit_model = nn.fit(X_train_scaled, y_train, epochs=100, callbacks=[checkpoint_callback])"
      ]
    },
    {
      "cell_type": "code",
      "execution_count": 120,
      "metadata": {
        "id": "9H1U_eHZSFy5",
        "colab": {
          "base_uri": "https://localhost:8080/"
        },
        "outputId": "27ce9bb8-a0f0-4a4e-9596-4714a0b2fb42"
      },
      "outputs": [
        {
          "output_type": "stream",
          "name": "stdout",
          "text": [
            "199/199 - 0s - loss: 0.5361 - accuracy: 0.7476 - 315ms/epoch - 2ms/step\n",
            "Loss: 0.5361326336860657, Accuracy: 0.7475590705871582\n"
          ]
        }
      ],
      "source": [
        "# Evaluate the model using the test data\n",
        "evaluation = nn.evaluate(X_test_scaled, y_test, verbose=2)\n",
        "print(f\"Loss: {evaluation[0]}, Accuracy: {evaluation[1]}\")"
      ]
    },
    {
      "cell_type": "code",
      "execution_count": 121,
      "metadata": {
        "id": "XqcJPHeKSFy5"
      },
      "outputs": [],
      "source": [
        "# Export our model to HDF5 file\n",
        "nn.save(\"AlphabetSoupCharityOptimised_7.h5\")"
      ]
    },
    {
      "cell_type": "code",
      "execution_count": 122,
      "metadata": {
        "id": "zYBTw0efSFy5",
        "colab": {
          "base_uri": "https://localhost:8080/"
        },
        "outputId": "28928846-cec0-4df7-b998-59bdb4bed311"
      },
      "outputs": [
        {
          "output_type": "stream",
          "name": "stdout",
          "text": [
            "/content\n"
          ]
        }
      ],
      "source": [
        "# See the path of the current working directory\n",
        "import os\n",
        "print(os.getcwd())"
      ]
    }
  ],
  "metadata": {
    "kernelspec": {
      "display_name": "Python 3 (ipykernel)",
      "language": "python",
      "name": "python3"
    },
    "language_info": {
      "codemirror_mode": {
        "name": "ipython",
        "version": 3
      },
      "file_extension": ".py",
      "mimetype": "text/x-python",
      "name": "python",
      "nbconvert_exporter": "python",
      "pygments_lexer": "ipython3",
      "version": "3.9.13"
    },
    "vscode": {
      "interpreter": {
        "hash": "31f2aee4e71d21fbe5cf8b01ff0e069b9275f58929596ceb00d14d90e3e16cd6"
      }
    },
    "colab": {
      "provenance": [],
      "include_colab_link": true
    }
  },
  "nbformat": 4,
  "nbformat_minor": 0
}